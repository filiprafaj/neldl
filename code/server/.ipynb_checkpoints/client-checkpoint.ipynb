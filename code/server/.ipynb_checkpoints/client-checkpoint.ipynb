{
 "cells": [
  {
   "cell_type": "markdown",
   "metadata": {},
   "source": [
    "## Try on your own input"
   ]
  },
  {
   "cell_type": "code",
   "execution_count": 1,
   "metadata": {},
   "outputs": [],
   "source": [
    "import requests, json\n",
    "from IPython.display import Markdown"
   ]
  },
  {
   "cell_type": "code",
   "execution_count": 2,
   "metadata": {
    "scrolled": true
   },
   "outputs": [
    {
     "data": {
      "text/plain": [
       "<Response [200]>"
      ]
     },
     "execution_count": 2,
     "metadata": {},
     "output_type": "execute_result"
    }
   ],
   "source": [
    "## if Response [200] the server is running\n",
    "requests.post(\"http://localhost:5555\") "
   ]
  },
  {
   "cell_type": "code",
   "execution_count": 3,
   "metadata": {},
   "outputs": [],
   "source": [
    "def find_named_entities(text, spans=[], redirections=True, threshold=None):\n",
    "    \"\"\"\n",
    "    Sends the input text to the service, gets the response and formats the output\n",
    "    \"\"\"\n",
    "    myjson = { \"text\": text, \"spans\": spans, \"redirections\": redirections, \"threshold\": threshold}\n",
    "    \n",
    "    r = requests.post(\"http://localhost:5555\", json=myjson)\n",
    "    ents = json.loads(r.content)\n",
    "    ents.sort(key=lambda tup: tup[0], reverse=True)  \n",
    "    for i, ent in enumerate(ents):\n",
    "        text =(text[:ent[0]] + \n",
    "               '['+text[ent[0]:ent[0]+ent[1]]+'](https://en.wikipedia.org/wiki/'+ ent[2] +')'\n",
    "               +text[ent[0]+ent[1]:])\n",
    "    \n",
    "    # Replace $ sign : Quick fix since $ sign is a keyword in jupyter markdowns\n",
    "    text = text.replace(\"$\",\"\\\\$\")\n",
    "    \n",
    "    \n",
    "    return text"
   ]
  },
  {
   "cell_type": "markdown",
   "metadata": {},
   "source": [
    "#### given spans"
   ]
  },
  {
   "cell_type": "code",
   "execution_count": 4,
   "metadata": {
    "scrolled": false
   },
   "outputs": [
    {
     "data": {
      "text/markdown": [
       "[Obama](https://en.wikipedia.org/wiki/Barack_Obama) will visit Germany and have a meeting with [Merkel](https://en.wikipedia.org/wiki/Angela_Merkel) tomorrow."
      ],
      "text/plain": [
       "<IPython.core.display.Markdown object>"
      ]
     },
     "metadata": {},
     "output_type": "display_data"
    }
   ],
   "source": [
    "output_text = find_named_entities(text=\"Obama will visit Germany and have a meeting with Merkel tomorrow.\",\n",
    "                           spans=[{\"start\":0,\"length\":5}, {\"start\":49,\"length\":6}],\n",
    "                           redirections=True)\n",
    "display(Markdown(output_text))"
   ]
  },
  {
   "cell_type": "markdown",
   "metadata": {},
   "source": [
    "#### no given spans"
   ]
  },
  {
   "cell_type": "code",
   "execution_count": 5,
   "metadata": {},
   "outputs": [
    {
     "data": {
      "text/markdown": [
       "[Obama](https://en.wikipedia.org/wiki/Barack_Obama) will visit [Germany](https://en.wikipedia.org/wiki/Germany) and have a meeting with [Merkel](https://en.wikipedia.org/wiki/Angela_Merkel) tomorrow."
      ],
      "text/plain": [
       "<IPython.core.display.Markdown object>"
      ]
     },
     "metadata": {},
     "output_type": "display_data"
    }
   ],
   "source": [
    "output_text = find_named_entities(text=\"Obama will visit Germany and have a meeting with Merkel tomorrow.\",\n",
    "                           spans=[])\n",
    "display(Markdown(output_text))"
   ]
  },
  {
   "cell_type": "code",
   "execution_count": 106,
   "metadata": {},
   "outputs": [],
   "source": [
    "texts = [\n",
    "    (\"Pakistan has one of the best teams in cricket. The pakistani squad \"\n",
    "     \"for ICC Cricket World Cup has Shahid Afridi and Shoaib Akhtar.\"),\n",
    "    (\"They performed Kashmir, written by Plant and Page. Page played unusual chords on his Gibson.\"),\n",
    "    (\"Kashmir is a song by the English rock band Led Zeppelin. Included on their sixth album Physical Graffiti (1975), it was written by Jimmy Page and Robert Plant (with contributions from John Bonham) over a period of three years with lyrics dating to 1973.\"),\n",
    "    (\"Federer’s coach\"),\n",
    "    (\"Obama Castle was built in 1601 in Japan.\"),\n",
    "    (\"The New York Times is a popular newspaper.\"),\n",
    "    (\"KIEV: Separatist rebels have not fulfilled conditions like handing\"\n",
    "     \"back border posts or laying down their weapons, Ukraine’s president\"\n",
    "     \"said on Monday in a phone call with the leaders of Russia, Germany and \"\n",
    "     \"France as he pondered whether to extend a ceasefire.The call between \"\n",
    "     \"President Petro Poroshenko, Russia’s Vladimir Putin, Germany’s Chancellor \"\n",
    "     \"Angela Merkel and France’s Francois Hollande took place as an expiration \"\n",
    "     \"deadline neared for Ukraine’s shaky, unilateral ceasefire.\"),\n",
    "    (\"Monty Python's Flying Circus is a British surreal sketch comedy series created by and starring the comedy group Monty Python, consisting of Graham Chapman, John Cleese, Eric Idle, Terry Jones, Michael Palin and Terry Gilliam, \"),\n",
    "    (\"Creedence Clearwater Revival was an American rock band\"),\n",
    "    (\"Eminem is the best rapper of all time. MMLP was his best album, \"\n",
    "     \"Eminem and Dre have produced this album.\"),\n",
    "]"
   ]
  },
  {
   "cell_type": "code",
   "execution_count": 107,
   "metadata": {
    "scrolled": true
   },
   "outputs": [
    {
     "data": {
      "text/markdown": [
       "[Creedence Clearwater Revival](https://en.wikipedia.org/wiki/Creedence_Clearwater_Revival) was an [American](https://en.wikipedia.org/wiki/United_States) rock [band](https://en.wikipedia.org/wiki/Musical_ensemble)"
      ],
      "text/plain": [
       "<IPython.core.display.Markdown object>"
      ]
     },
     "metadata": {},
     "output_type": "display_data"
    },
    {
     "data": {
      "text/markdown": [
       "[page](https://en.wikipedia.org/wiki/Carmen_Electra) is a [guitarist](https://en.wikipedia.org/wiki/Guitarist) in [led](https://en.wikipedia.org/wiki/Light-emitting_diode) [zeppelin](https://en.wikipedia.org/wiki/Zeppelin)"
      ],
      "text/plain": [
       "<IPython.core.display.Markdown object>"
      ]
     },
     "metadata": {},
     "output_type": "display_data"
    }
   ],
   "source": [
    "for t in texts:\n",
    "    output_text = find_named_entities(text=t, threshold=-0.1)\n",
    "    display(Markdown(output_text))"
   ]
  },
  {
   "cell_type": "code",
   "execution_count": 52,
   "metadata": {},
   "outputs": [
    {
     "data": {
      "text/markdown": [
       "Creedence Clearwater Revival, also referred to as Creedence and CCR, was an American rock band"
      ],
      "text/plain": [
       "<IPython.core.display.Markdown object>"
      ]
     },
     "metadata": {},
     "output_type": "display_data"
    }
   ],
   "source": [
    "for t in texts:\n",
    "    output_text = find_named_entities(text=t)\n",
    "    display(Markdown(output_text))"
   ]
  },
  {
   "cell_type": "markdown",
   "metadata": {},
   "source": [
    "Kashmir 19724   17337,0.93043448847396,Kashmir  1124291,0.1197388671842,Kashmir_(song)\n",
    "\n",
    "Page    7386    106597,0.15952204716083,Page,_Arizona   102096,0.14439811493846,Jimmy_Page      60903,0.064157252314173,Larry_Page      3589612,0.043431863713137,Harlan_Page..."
   ]
  }
 ],
 "metadata": {
  "kernelspec": {
   "display_name": "Python 3",
   "language": "python",
   "name": "python3"
  },
  "language_info": {
   "codemirror_mode": {
    "name": "ipython",
    "version": 3
   },
   "file_extension": ".py",
   "mimetype": "text/x-python",
   "name": "python",
   "nbconvert_exporter": "python",
   "pygments_lexer": "ipython3",
   "version": "3.8.5"
  }
 },
 "nbformat": 4,
 "nbformat_minor": 2
}
